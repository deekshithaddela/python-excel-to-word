{
 "cells": [
  {
   "cell_type": "code",
   "execution_count": 1,
   "source": [
    "\r\n",
    "# importing openpyxl module\r\n",
    "import openpyxl as xl;\r\n"
   ],
   "outputs": [],
   "metadata": {}
  },
  {
   "cell_type": "code",
   "execution_count": 18,
   "source": [
    "import Document\r\n",
    "document = Document()\r\n",
    "for i in range(9):\r\n",
    "    document.add_table(rows=5, cols=4)\r\n",
    "    document.add_paragraph('')\r\n",
    "document.save('file')"
   ],
   "outputs": [
    {
     "output_type": "error",
     "ename": "ModuleNotFoundError",
     "evalue": "No module named 'Document'",
     "traceback": [
      "\u001b[1;31m---------------------------------------------------------------------------\u001b[0m",
      "\u001b[1;31mModuleNotFoundError\u001b[0m                       Traceback (most recent call last)",
      "\u001b[1;32m~\\AppData\\Local\\Temp/ipykernel_5316/3884778218.py\u001b[0m in \u001b[0;36m<module>\u001b[1;34m\u001b[0m\n\u001b[1;32m----> 1\u001b[1;33m \u001b[1;32mimport\u001b[0m \u001b[0mDocument\u001b[0m\u001b[1;33m\u001b[0m\u001b[1;33m\u001b[0m\u001b[0m\n\u001b[0m\u001b[0;32m      2\u001b[0m \u001b[0mdocument\u001b[0m \u001b[1;33m=\u001b[0m \u001b[0mDocument\u001b[0m\u001b[1;33m(\u001b[0m\u001b[1;33m)\u001b[0m\u001b[1;33m\u001b[0m\u001b[1;33m\u001b[0m\u001b[0m\n\u001b[0;32m      3\u001b[0m \u001b[1;32mfor\u001b[0m \u001b[0mi\u001b[0m \u001b[1;32min\u001b[0m \u001b[0mrange\u001b[0m\u001b[1;33m(\u001b[0m\u001b[1;36m9\u001b[0m\u001b[1;33m)\u001b[0m\u001b[1;33m:\u001b[0m\u001b[1;33m\u001b[0m\u001b[1;33m\u001b[0m\u001b[0m\n\u001b[0;32m      4\u001b[0m     \u001b[0mdocument\u001b[0m\u001b[1;33m.\u001b[0m\u001b[0madd_table\u001b[0m\u001b[1;33m(\u001b[0m\u001b[0mrows\u001b[0m\u001b[1;33m=\u001b[0m\u001b[1;36m5\u001b[0m\u001b[1;33m,\u001b[0m \u001b[0mcols\u001b[0m\u001b[1;33m=\u001b[0m\u001b[1;36m4\u001b[0m\u001b[1;33m)\u001b[0m\u001b[1;33m\u001b[0m\u001b[1;33m\u001b[0m\u001b[0m\n\u001b[0;32m      5\u001b[0m     \u001b[0mdocument\u001b[0m\u001b[1;33m.\u001b[0m\u001b[0madd_paragraph\u001b[0m\u001b[1;33m(\u001b[0m\u001b[1;34m''\u001b[0m\u001b[1;33m)\u001b[0m\u001b[1;33m\u001b[0m\u001b[1;33m\u001b[0m\u001b[0m\n",
      "\u001b[1;31mModuleNotFoundError\u001b[0m: No module named 'Document'"
     ]
    }
   ],
   "metadata": {}
  },
  {
   "cell_type": "code",
   "execution_count": 7,
   "source": [
    "  \r\n",
    "# opening the source excel file\r\n",
    "filename =\"C:/Users/daddela/Desktop/Projects/email/A.xlsx\"\r\n",
    "wb1 = xl.load_workbook(filename)\r\n",
    "ws1 = wb1.worksheets[2]\r\n",
    "  \r\n",
    "# opening the destination excel file \r\n",
    "filename1 =\"C:/Users/daddela/Desktop/Projects/email/New.xlsx\"\r\n",
    "wb2 = xl.load_workbook(filename1)\r\n",
    "ws2 = wb2.active\r\n",
    "  \r\n"
   ],
   "outputs": [],
   "metadata": {}
  },
  {
   "cell_type": "code",
   "execution_count": 8,
   "source": [
    "# calculate total number of rows and \r\n",
    "# columns in source excel file\r\n",
    "mr = ws1.max_row\r\n",
    "mc = ws1.max_column\r\n",
    "print(mr,mc)\r\n"
   ],
   "outputs": [
    {
     "output_type": "stream",
     "name": "stdout",
     "text": [
      "8 63\n"
     ]
    }
   ],
   "metadata": {}
  },
  {
   "cell_type": "code",
   "execution_count": 9,
   "source": [
    "  \r\n",
    "# copying the cell values from source \r\n",
    "# excel file to destination excel file\r\n",
    "for i in range (1, mc + 1):\r\n",
    "    for j in range (1, mr + 1):\r\n",
    "        # reading cell value from source excel file\r\n",
    "        c = ws1.cell(row = j, column = i)\r\n",
    "        print(c.value)\r\n",
    "        ws2.merge_cells('A1:A3').value = c.value\r\n",
    "    break\r\n",
    "  \r\n",
    "    # # writing the read value to destination excel file\r\n",
    "    \r\n",
    "    # ws2.cell(row = i, column = j).value = c.value\r\n",
    "  "
   ],
   "outputs": [
    {
     "output_type": "stream",
     "name": "stdout",
     "text": [
      "Abhilasha Kumari\n",
      "B.Sc.(Hons.) Agriculture\n",
      "Bihar Agricultural University, Sabour,Bihar\n",
      "Bihar\n",
      "Sketching and Reading books\n",
      "English and Hindi\n",
      "None\n",
      "None\n"
     ]
    }
   ],
   "metadata": {}
  },
  {
   "cell_type": "code",
   "execution_count": 27,
   "source": [
    "# saving the destination excel file\r\n",
    "\r\n",
    "from docx import Document\r\n",
    "from docx.shared import Cm, Pt\r\n",
    "\r\n",
    "word_document = Document()\r\n",
    "document_name = 'new'\r\n",
    "\r\n",
    "ab = [\"Stream\",\r\n",
    "    \"University\",\r\n",
    "    \"State\",\r\n",
    "    \"Hobbies\",\r\n",
    "    \"Languages known\",\r\n",
    "    \"Work Experience\",\r\n",
    "    ]\r\n",
    "for i in range (1, mc + 1):\r\n",
    "    text_stats = {}\r\n",
    "    for j in range (1, mr):\r\n",
    "        c = ws1.cell(row = j, column = i)\r\n",
    "        if c.value:\r\n",
    "            if j==1:\r\n",
    "                name = c.value\r\n",
    "            else:\r\n",
    "                text_stats[ab[j-2]] = c.value\r\n",
    "                if j==7:\r\n",
    "                    d = ws1.cell(row = j+1, column = i)\r\n",
    "                    text_stats[ab[j-2]] = f\"{c.value} for {d.value}\"\r\n",
    "\r\n",
    "        \r\n",
    "    \r\n",
    "    \r\n",
    "    # customizing the table\r\n",
    "    table = word_document.add_table(0, 0) # we add rows iteratively\r\n",
    "    table.style = 'TableGrid'\r\n",
    "    w = [5,0.5,8]\r\n",
    "    for i in w:\r\n",
    "        table.add_column(Cm(i))\r\n",
    "    \r\n",
    "    table.add_row()\r\n",
    "    row = table.rows[0]\r\n",
    "    row.cells[0].text = str(name)\r\n",
    "    a, b, c= row.cells[:3]\r\n",
    "    a.merge(b)\r\n",
    "    a.merge(c)\r\n",
    "    for index, stat_item in enumerate(text_stats.items()):\r\n",
    "        table.add_row()\r\n",
    "        stat_name, stat_result = stat_item\r\n",
    "        row = table.rows[index+1]\r\n",
    "        row.cells[0].text = str(stat_name)\r\n",
    "        row.cells[1].text = ':'\r\n",
    "        row.cells[2].text = str(stat_result)\r\n",
    "    p = word_document.add_paragraph()\r\n",
    "    run = p.add_run()\r\n",
    "    run.add_break()\r\n",
    "word_document.save(document_name + '.docx')"
   ],
   "outputs": [
    {
     "output_type": "stream",
     "name": "stderr",
     "text": [
      "C:\\Users\\daddela\\AppData\\Local\\Programs\\Python\\Python39\\lib\\site-packages\\docx\\styles\\styles.py:139: UserWarning: style lookup by style_id is deprecated. Use style name as key instead.\n",
      "  return self._get_style_id_from_style(self[style_name], style_type)\n"
     ]
    },
    {
     "output_type": "error",
     "ename": "AttributeError",
     "evalue": "'tuple' object has no attribute 'text'",
     "traceback": [
      "\u001b[1;31m---------------------------------------------------------------------------\u001b[0m",
      "\u001b[1;31mAttributeError\u001b[0m                            Traceback (most recent call last)",
      "\u001b[1;32m~\\AppData\\Local\\Temp/ipykernel_5316/3884834755.py\u001b[0m in \u001b[0;36m<module>\u001b[1;34m\u001b[0m\n\u001b[0;32m     39\u001b[0m     \u001b[0mtable\u001b[0m\u001b[1;33m.\u001b[0m\u001b[0madd_row\u001b[0m\u001b[1;33m(\u001b[0m\u001b[1;33m)\u001b[0m\u001b[1;33m\u001b[0m\u001b[1;33m\u001b[0m\u001b[0m\n\u001b[0;32m     40\u001b[0m     \u001b[0mrow\u001b[0m \u001b[1;33m=\u001b[0m \u001b[0mtable\u001b[0m\u001b[1;33m.\u001b[0m\u001b[0mrows\u001b[0m\u001b[1;33m[\u001b[0m\u001b[1;36m0\u001b[0m\u001b[1;33m]\u001b[0m\u001b[1;33m\u001b[0m\u001b[1;33m\u001b[0m\u001b[0m\n\u001b[1;32m---> 41\u001b[1;33m     \u001b[0mrow\u001b[0m\u001b[1;33m.\u001b[0m\u001b[0mcells\u001b[0m\u001b[1;33m[\u001b[0m\u001b[1;36m0\u001b[0m\u001b[1;33m:\u001b[0m\u001b[1;36m2\u001b[0m\u001b[1;33m]\u001b[0m\u001b[1;33m.\u001b[0m\u001b[0mtext\u001b[0m \u001b[1;33m=\u001b[0m \u001b[0mstr\u001b[0m\u001b[1;33m(\u001b[0m\u001b[0mname\u001b[0m\u001b[1;33m)\u001b[0m\u001b[1;33m\u001b[0m\u001b[1;33m\u001b[0m\u001b[0m\n\u001b[0m\u001b[0;32m     42\u001b[0m     \u001b[0ma\u001b[0m\u001b[1;33m,\u001b[0m \u001b[0mb\u001b[0m\u001b[1;33m,\u001b[0m \u001b[0mc\u001b[0m\u001b[1;33m=\u001b[0m \u001b[0mrow\u001b[0m\u001b[1;33m.\u001b[0m\u001b[0mcells\u001b[0m\u001b[1;33m[\u001b[0m\u001b[1;33m:\u001b[0m\u001b[1;36m3\u001b[0m\u001b[1;33m]\u001b[0m\u001b[1;33m\u001b[0m\u001b[1;33m\u001b[0m\u001b[0m\n\u001b[0;32m     43\u001b[0m     \u001b[0ma\u001b[0m\u001b[1;33m.\u001b[0m\u001b[0mmerge\u001b[0m\u001b[1;33m(\u001b[0m\u001b[0mb\u001b[0m\u001b[1;33m)\u001b[0m\u001b[1;33m\u001b[0m\u001b[1;33m\u001b[0m\u001b[0m\n",
      "\u001b[1;31mAttributeError\u001b[0m: 'tuple' object has no attribute 'text'"
     ]
    }
   ],
   "metadata": {}
  }
 ],
 "metadata": {
  "orig_nbformat": 4,
  "language_info": {
   "name": "python",
   "version": "3.9.1",
   "mimetype": "text/x-python",
   "codemirror_mode": {
    "name": "ipython",
    "version": 3
   },
   "pygments_lexer": "ipython3",
   "nbconvert_exporter": "python",
   "file_extension": ".py"
  },
  "kernelspec": {
   "name": "python3",
   "display_name": "Python 3.9.1 64-bit"
  },
  "interpreter": {
   "hash": "1b7182746dea1186a88ac5e59414a8b8216209754bc91d5148190c42c264bf89"
  }
 },
 "nbformat": 4,
 "nbformat_minor": 2
}